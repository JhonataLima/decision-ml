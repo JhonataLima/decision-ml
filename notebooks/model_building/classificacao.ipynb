{
 "cells": [
  {
   "cell_type": "code",
   "execution_count": 41,
   "id": "f43dfba3",
   "metadata": {},
   "outputs": [],
   "source": [
    "import pandas as pd\n",
    "from sklearn.model_selection import train_test_split\n",
    "from sklearn.preprocessing import LabelEncoder\n",
    "from sklearn.ensemble import RandomForestClassifier\n",
    "from sklearn.metrics import classification_report\n",
    "import joblib\n",
    "import os"
   ]
  },
  {
   "cell_type": "code",
   "execution_count": 42,
   "id": "3bc24786",
   "metadata": {},
   "outputs": [],
   "source": [
    "caminho_dados = \"data/processed/feature_engineering.parquet\"\n",
    "caminho_modelo = \"models/artifacts/classificacao_binaria.pkl\""
   ]
  },
  {
   "cell_type": "code",
   "execution_count": 43,
   "id": "27a63d86",
   "metadata": {},
   "outputs": [],
   "source": [
    "caminho_dados = \"C:/Users/jhona/OneDrive/Área de Trabalho/MBA_FIAP/2MLET/FASE_5/DATATHON/decision-ml/data/processed/dataset_modelagem.parquet\"\n",
    "caminho_modelo = \"models/artifacts/classificacao_binaria.pkl\""
   ]
  },
  {
   "cell_type": "code",
   "execution_count": 44,
   "id": "fa43aba5",
   "metadata": {},
   "outputs": [],
   "source": [
    "# Carregar dados\n",
    "df = pd.read_parquet(caminho_dados)\n",
    "\n",
    "X = df.drop(columns=[\"situacao_candidato\"])\n",
    "y = df[\"situacao_candidato\"].apply(lambda x: 1 if x == \"aprovado\" else 0)\n",
    "\n",
    "X_train, X_test, y_train, y_test = train_test_split(\n",
    "    X, y, test_size=0.2, random_state=42, stratify=y\n",
    ")"
   ]
  },
  {
   "cell_type": "code",
   "execution_count": 45,
   "id": "e7d27a5e",
   "metadata": {},
   "outputs": [
    {
     "data": {
      "text/plain": [
       "informacoes_pessoais_sexo                         int32\n",
       "informacoes_pessoais_estado_civil                 int32\n",
       "informacoes_pessoais_pcd                          int32\n",
       "infos_basicas_local                               int32\n",
       "infos_basicas_sabendo_de_nos_por                  int32\n",
       "informacoes_pessoais_fonte_indicacao              int32\n",
       "formacao_e_idiomas_nivel_academico                int32\n",
       "formacao_e_idiomas_nivel_ingles                   int32\n",
       "formacao_e_idiomas_nivel_espanhol                 int32\n",
       "formacao_e_idiomas_outro_idioma                   int32\n",
       "formacao_e_idiomas_cursos                         int32\n",
       "informacoes_profissionais_area_atuacao            int32\n",
       "informacoes_profissionais_nivel_profissional      int32\n",
       "informacoes_profissionais_certificacoes           int32\n",
       "cargo_atual_cargo_atual                           int32\n",
       "cargo_atual_projeto_atual                         int32\n",
       "cargo_atual_cliente                               int32\n",
       "idade                                           float64\n",
       "tempo_empresa_anos                              float64\n",
       "dtype: object"
      ]
     },
     "execution_count": 45,
     "metadata": {},
     "output_type": "execute_result"
    }
   ],
   "source": [
    "X.dtypes"
   ]
  },
  {
   "cell_type": "code",
   "execution_count": 51,
   "id": "842eb0c0",
   "metadata": {},
   "outputs": [
    {
     "data": {
      "text/plain": [
       "informacoes_pessoais_sexo                       0\n",
       "informacoes_pessoais_estado_civil               0\n",
       "informacoes_pessoais_pcd                        0\n",
       "infos_basicas_local                             0\n",
       "infos_basicas_sabendo_de_nos_por                0\n",
       "informacoes_pessoais_fonte_indicacao            0\n",
       "formacao_e_idiomas_nivel_academico              0\n",
       "formacao_e_idiomas_nivel_ingles                 0\n",
       "formacao_e_idiomas_nivel_espanhol               0\n",
       "formacao_e_idiomas_outro_idioma                 0\n",
       "formacao_e_idiomas_cursos                       0\n",
       "informacoes_profissionais_area_atuacao          0\n",
       "informacoes_profissionais_nivel_profissional    0\n",
       "informacoes_profissionais_certificacoes         0\n",
       "cargo_atual_cargo_atual                         0\n",
       "cargo_atual_projeto_atual                       0\n",
       "cargo_atual_cliente                             0\n",
       "idade                                           0\n",
       "tempo_empresa_anos                              0\n",
       "dtype: int64"
      ]
     },
     "execution_count": 51,
     "metadata": {},
     "output_type": "execute_result"
    }
   ],
   "source": [
    "X.isna().sum()"
   ]
  },
  {
   "cell_type": "code",
   "execution_count": 52,
   "id": "d6edefda",
   "metadata": {},
   "outputs": [
    {
     "name": "stdout",
     "output_type": "stream",
     "text": [
      "Coluna: informacoes_pessoais_sexo\n",
      "[2 0 3 1]\n",
      "Coluna: informacoes_pessoais_estado_civil\n",
      "[0 3 2 1 5 6 7 4]\n",
      "Coluna: informacoes_pessoais_pcd\n",
      "[0 1 2 3]\n",
      "Coluna: infos_basicas_local\n",
      "[  0 332 355 528 495 553 540 110 436 562 107 203 607  70 238 463 544 343\n",
      " 354 529 162 444 432 236 158  56 426  52 308 198 530 398 583 227 519  77\n",
      " 125 602 273 169 230 234 257 359  84 603 290 601  98  42 561 604 479 174\n",
      "  97  80 416 484 358 523 295 196  91  78 137 337 501  55 476 367 229 278\n",
      " 551 132 318 256 268  86 541 270 320  58 286  41  87 264 330  43 387 571\n",
      "  63  72 493  14 577 315 545  54 548 536  85 239  38 306 128 417 338 292\n",
      " 281 505  69 313 364 504  73 109 438 345 251 595 131 106 393 346 294 356\n",
      " 204 524 191 187 188 291  25 462 324 572 182 160 507 300 449 351 568 442\n",
      " 406 365 413  46 475 592  39 597 321 600 415 310   7 118 533 590 263 173\n",
      " 126 154 141 435 510 223 353 348 546 108 443 319 216 383 190 340 591 249\n",
      " 311 113 584 352 323 246 470 117 469 134 375 498 448 539 433 317 255 201\n",
      " 405 184 582 138 104 400 612 376  28 156 276 350 401 244  62  11  15 228\n",
      " 372 139 312 177 283 381 439 452 593 347 339 388  65 208 360 336 542 596\n",
      " 183 567 279 285  76 147   1 143 514  50 202 434 513 168 142 304 366 550\n",
      " 558 280 451 466 429  29 172 445 410 178 133 457 458 105 145 299 453 112\n",
      " 384 266 179  60 275 502  94 403 489  35 206 575 503 385 549 598  99 186\n",
      " 220 565 136 200 130 165 274   8  64 509 573 103 325  51 189 199 606 205\n",
      " 362 218 167 326 412 211 214  83  24 380  22 377  68 215 391 508 122 569\n",
      " 303  34 520  90 140 121 176 390 261 437 171 471 259 378 370 247 446 342\n",
      "  48 465 456 195  23 213 411 427 422 212 482 335  89 570 267 166 537 368\n",
      " 102 472 225 485 149 556 474 516 543 460  40 221 525   6 414 557 316 487\n",
      "  75 373  19 408 349 566 423  17 232 194 461 531 440 161 515 454 608 144\n",
      " 552  26 207 243 371 407 192 480 522 605 269 554 219  57 535 430 309 594\n",
      " 248  71  95 155 233 241 163 560 288 397 389  59 152 574 517 559 111 114\n",
      " 170  21 284 588  13 185 374 395 532 222 386 305 611 334 492 396  61 253\n",
      "  74 506 124 538   3 459 265 116 357 293 500 402 210 363 419 254 344 101\n",
      " 123 392 272 250 534 235 581 242 518 333 231  47 329 180 382  32 258 341\n",
      " 464 477  30 379 327 490 209  44 547 424 252   4 494 491  79 146 450 511\n",
      "  82 576 307 159 563 119  33 394 302 527 428 237 409 447 314  88 193 150\n",
      " 418 499 226  10 322 148 512 331 421 157 217 521 609 127 404  36 151 564\n",
      " 224 260 262 153 297 245 129 586  37 580 298  49  53 488   5 420  16 526\n",
      " 578  96 164 296 120 614 467 115 481 282 613 277 287 240 483 599  67  45\n",
      "  20  92 497 328  27 455 473  12 468  66 361 399 587 615   9 610  93  31\n",
      " 135 301 555  18 441   2 486 100 289  81 589 425 431 271 369 175 585 496\n",
      " 181 478 197 579]\n",
      "Coluna: infos_basicas_sabendo_de_nos_por\n",
      "[12  0  9 14  1  5 10  7  6  8  2  4  3 13 11]\n",
      "Coluna: informacoes_pessoais_fonte_indicacao\n",
      "[1002    0  707 ...  203  366  168]\n",
      "Coluna: formacao_e_idiomas_nivel_academico\n",
      "[ 0 19 10 20 21 16 11  1 22 18 12 13 17  4  7  3 14  2  6  5 15  8  9]\n",
      "Coluna: formacao_e_idiomas_nivel_ingles\n",
      "[0 6 4 3 2 1 5]\n",
      "Coluna: formacao_e_idiomas_nivel_espanhol\n",
      "[0 6 2 3 5 1 4]\n",
      "Coluna: formacao_e_idiomas_outro_idioma\n",
      "[ 0 24 28  9 25  3 11  1 17 26  5 21 19 16 15 14 31 23 27  2  7 12  8 13\n",
      " 29 30 32 10 22 20  4 18  6]\n",
      "Coluna: formacao_e_idiomas_cursos\n",
      "[ 92 120  72  96  68   0  37   6  28  20  60   5   7  11   1 107   3  16\n",
      "  45  65  77  62  64 118 122  43 115  34  94  13  44   2 104  21  39  75\n",
      "  52  29  86  12  59  17 108  74  98  19  63 102  85 110  87  40  22  84\n",
      " 105  97  46  35  26  99   8  73  76 111  70  95  36  27  48 123 121  69\n",
      "  56 125  61  42  10  88  25  51  80  78  66 106  18 101 126  83  23 119\n",
      "  47  82  30  38  81  32  67 127  50 124 103  15 116 109  71  49   4  58\n",
      "  89  31  90  79  93  14  53  91 113   9  55 117  41 100 114  54  24 112\n",
      "  57  33]\n",
      "Coluna: informacoes_profissionais_area_atuacao\n",
      "[  0 248 678 654 110 672 528 333 667 617 412 609   1 168   3 688 486 330\n",
      " 475 647 116 365  96  13 453 690 402 286 675 398 230 614 181 262  33 648\n",
      " 406 277 491 682 524 686 355  43  69  52 520 106 242 521 543 222 482  45\n",
      " 458 448 557 234  47 326 554  91 629 449 364 469 425 644 509 185 306 462\n",
      " 585 504 446 148 562  58  36 180 379 691 235 596 316 632  60 527 295 413\n",
      " 336 362 569 674 435 401 671 118 519 641 653 229 369 404  64 122  59 657\n",
      " 578 630 419 566 579 503 573 659 494 255 597  12 153 658 162 184 661  35\n",
      "  78 633 526 625 591 553 266 303 208 399 269 111 144  95 545  70  23 298\n",
      " 634 163  41 603 456 231 604  18 650 452 278 150 143 586 405 182  37   8\n",
      " 176 537  27 198 211 544 327 314 131 123 114 620 681 308 317 564 268 474\n",
      " 378 352 512 342 457 121 506 531 315 307 496 309 228 218  40 217 470 201\n",
      " 383  31 534 466 359 145 640 530 535  19 348  93 372 407 324 115 264 505\n",
      " 339 513 249 301 284 299 649 356 349 485 418 129 385 321 437 244 595 117\n",
      " 243 429  97 533 611 670 555 433 381 660 387 559 498 252  75 200 489 601\n",
      " 140 677 618 345 294 403 203 680  86 665  66 183 551 291 572 588 565 570\n",
      " 179 225 311 621 552 389 263 265 577 477 205 592 133 382 442 310 468 109\n",
      " 637 635 422 631 290 213   2 193 141 626 250 575 287 664 267 516  15  87\n",
      " 431 273  85  17 563  76 227 439 684 209 240  71  22 502 426 274 108 598\n",
      " 493 341 676 583 318 576 638 616 256 328  32 107 346 175 302 646 645 606\n",
      " 156 340 236  89 580 642 623 450 445 312 128  63  14 158 465 367 581 409\n",
      " 152 206 190 673 539 415 548  67 582  82 600 584  38  54  99 119 238   5\n",
      "  30 103  88 194 627 639 272 300 556 490 484  29 396 282 683 155  20 127\n",
      "  21  77 395 322 628 495 361 189 467 270 261  48  83 541 411 532 360  46\n",
      " 687 233 508 167 547 247 253 472 443  79 447 172 460 599 610 319 142  94\n",
      " 177 354 161 427 254 400 536 414 134  51 232 497 511 560 655 410 643 344\n",
      " 375  74 132 679 478 325 323 561 332 334 368 212 251 197 370 668 438 514\n",
      " 159  90 436 434 656 440 529 373 297 568 540 304 160  11  49 151 288 347\n",
      " 366 337 351 417 624 105 587 166 517 542 669 461 451 338 224 171  39 374\n",
      " 518 371 335 220 305 416   6 589 615  56 285 147 421 525 296 216 149 293\n",
      "  84 384 199 170 195 210   9 102 393 622 358 241 113 292 420  44 500 357\n",
      " 590 202 571 390 522 329 363 126 130  24 188 394 376 464 279 605 423 259\n",
      " 124 138 607 391 444  42 549 313 441 501 157 174 280 258 619 214 289 481\n",
      " 173 226 574 430 388 685 476  28 380 432 510 663 178 221 499 165 187 602\n",
      " 215 120 343  81 473 408 353 567 276  72 608 246 515 523 237 192 662  55\n",
      " 245  80  10  26   7   4 487 593 239 386 507 219 651 454 137 480 594 424\n",
      " 455 483  61  98 204 125 223 636 471 397 666  53  16 104  34 112  73  25\n",
      "  68  65  50 146 164  62 139 135 281 392 612 257 154  57  92 186 689 196\n",
      " 136 492 546 350 550 271 283 101 613 558 459 331 169 275 100 207 538 428\n",
      " 191 320 377 488 652 479 463 260]\n",
      "Coluna: informacoes_profissionais_nivel_profissional\n",
      "[ 0  7  9  2  8  5  1  4  6  3 10]\n",
      "Coluna: informacoes_profissionais_certificacoes\n",
      "[ 81   0 134 215 179 202 212  50 156 182  13   5  36  33  37 230 117 171\n",
      " 221 123 196 166   1  43 194 213 186 208 151  42 203 184  34  66 189  16\n",
      " 232 229 193  23 185  52 224 228  80  27  92 111 172 155 113  19  75  49\n",
      "  86 216 105  78 145  62  64  93  95 130 170 195 207  87 204  99   3 209\n",
      " 167  85  17 164   6 223  12 177  28 214 205 148  68  32 118  71 129  97\n",
      " 200 136 168 133  63  67 165  10  51  56  46  88 219 150 180 146  11 108\n",
      "  54 222 135 199 211 128  21 191 169 187 231  31 178 158  69  24  73  76\n",
      " 220 106 138 121 115  25 210  41 109 159  20   2 192 163 132 226  65  22\n",
      " 142  15 206  94 198 157  57 174  14 124   9 103 188 127  55  48 116  35\n",
      "  26 147  90  98  96  74  82  59  40 141 154 190 173  89 131 161 144 143\n",
      " 104  72 107  29 152 140 227 110  45 149  61 137 112  91  58   8 176  44\n",
      " 160 114 225 181  77  18  79  60 102 101 197  38  83 201 162  84  70   7\n",
      " 183 218 122 119 100 120 125 175  47 126  39 153  53   4 139 217  30]\n",
      "Coluna: cargo_atual_cargo_atual\n",
      "[15  0 10  5 14 11  6 13  3  2  7 12  1 17  9  8  4 16]\n",
      "Coluna: cargo_atual_projeto_atual\n",
      "[1 0]\n",
      "Coluna: cargo_atual_cliente\n",
      "[5 0 1 3 2 4]\n",
      "Coluna: idade\n",
      "[ 56.   0.  53.  58.  69.  55.  57.  44.  47.  51.  46.  41.  37.  32.\n",
      "  48.  13.  40.  38.  45.  30.  52.  39.  36.  42.  33.  43.  54.  24.\n",
      "  64.  34.  29.  28.   4.  60.  50.  66.  35.  61.  62.  25.  27.  31.\n",
      "  49.  70.   5.  59.  63.  65.  26.  68.  67.   6.  76.  74.  72. 319.\n",
      "  71.  23.  73.  78.   2.  20.   3.  22.  82.  75. 149. 131.   9.   8.\n",
      "  21.]\n",
      "Coluna: tempo_empresa_anos\n",
      "[ 0. 56.  6.  7.  9. 10.]\n"
     ]
    }
   ],
   "source": [
    "for col in X.columns:\n",
    "    print(f\"Coluna: {col}\")\n",
    "    print(X[col].unique())"
   ]
  },
  {
   "cell_type": "code",
   "execution_count": 53,
   "id": "3e11f2f9",
   "metadata": {},
   "outputs": [],
   "source": [
    "X.replace(r'^\\s*$', float('nan'), regex=True, inplace=True)\n",
    "X = X.fillna(0)"
   ]
  },
  {
   "cell_type": "code",
   "execution_count": null,
   "id": "ac9e0451",
   "metadata": {},
   "outputs": [],
   "source": [
    "modelo = RandomForestClassifier(n_estimators=100, random_state=42)\n",
    "modelo.fit(X_train, y_train)"
   ]
  },
  {
   "cell_type": "code",
   "execution_count": null,
   "id": "a90e3dd6",
   "metadata": {},
   "outputs": [],
   "source": [
    "y_pred = modelo.predict(X_test)\n",
    "print(\"Relatório de Classificação:\")\n",
    "print(classification_report(y_test, y_pred))"
   ]
  },
  {
   "cell_type": "code",
   "execution_count": null,
   "id": "f51a98c5",
   "metadata": {},
   "outputs": [],
   "source": [
    "os.makedirs(os.path.dirname(caminho_modelo), exist_ok=True)\n",
    "joblib.dump(modelo, caminho_modelo)\n",
    "print(f\"Modelo salvo em: {caminho_modelo}\")"
   ]
  }
 ],
 "metadata": {
  "kernelspec": {
   "display_name": "Python 3",
   "language": "python",
   "name": "python3"
  },
  "language_info": {
   "codemirror_mode": {
    "name": "ipython",
    "version": 3
   },
   "file_extension": ".py",
   "mimetype": "text/x-python",
   "name": "python",
   "nbconvert_exporter": "python",
   "pygments_lexer": "ipython3",
   "version": "3.11.9"
  }
 },
 "nbformat": 4,
 "nbformat_minor": 5
}
