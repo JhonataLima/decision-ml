{
 "cells": [
  {
   "cell_type": "code",
   "execution_count": 1,
   "metadata": {},
   "outputs": [],
   "source": [
    "import pandas as pd\n",
    "import numpy as np\n",
    "from datetime import datetime"
   ]
  },
  {
   "cell_type": "code",
   "execution_count": null,
   "metadata": {},
   "outputs": [
    {
     "data": {
      "text/plain": [
       "(53735, 71)"
      ]
     },
     "execution_count": 2,
     "metadata": {},
     "output_type": "execute_result"
    }
   ],
   "source": [
    "df = pd.read_parquet('data/processed/base_tratada.parquet')\n",
    "df.shape"
   ]
  },
  {
   "cell_type": "code",
   "execution_count": 3,
   "metadata": {},
   "outputs": [
    {
     "data": {
      "text/plain": [
       "0        1292\n",
       "1        1463\n",
       "2        1464\n",
       "3        1464\n",
       "4        1464\n",
       "         ... \n",
       "53730     412\n",
       "53731     447\n",
       "53732     382\n",
       "53733     420\n",
       "53734     471\n",
       "Name: data_candidatura, Length: 53735, dtype: int64"
      ]
     },
     "execution_count": 3,
     "metadata": {},
     "output_type": "execute_result"
    }
   ],
   "source": [
    "pd.to_datetime(df['data_candidatura'], errors='coerce')\n",
    "(datetime.now() - df['data_candidatura']).dt.days"
   ]
  },
  {
   "cell_type": "code",
   "execution_count": 4,
   "metadata": {},
   "outputs": [
    {
     "data": {
      "text/plain": [
       "0        55\n",
       "1         0\n",
       "2         0\n",
       "3        19\n",
       "4         0\n",
       "         ..\n",
       "53730    10\n",
       "53731    19\n",
       "53732     6\n",
       "53733    35\n",
       "53734     0\n",
       "Name: infos_basicas_objetivo_profissional, Length: 53735, dtype: int64"
      ]
     },
     "execution_count": 4,
     "metadata": {},
     "output_type": "execute_result"
    }
   ],
   "source": [
    "df['infos_basicas_objetivo_profissional'].fillna('').apply(len)\n"
   ]
  },
  {
   "cell_type": "code",
   "execution_count": 5,
   "metadata": {},
   "outputs": [
    {
     "data": {
      "text/plain": [
       "0        1\n",
       "1        1\n",
       "2        1\n",
       "3        1\n",
       "4        1\n",
       "        ..\n",
       "53730    1\n",
       "53731    1\n",
       "53732    1\n",
       "53733    1\n",
       "53734    1\n",
       "Name: informacoes_profissionais_certificacoes, Length: 53735, dtype: int64"
      ]
     },
     "execution_count": 5,
     "metadata": {},
     "output_type": "execute_result"
    }
   ],
   "source": [
    "df['informacoes_profissionais_certificacoes'].fillna('').apply(lambda x: len(str(x).split(',')))"
   ]
  },
  {
   "cell_type": "code",
   "execution_count": 6,
   "metadata": {},
   "outputs": [
    {
     "data": {
      "text/plain": [
       "0        1\n",
       "1        1\n",
       "2        1\n",
       "3        1\n",
       "4        1\n",
       "        ..\n",
       "53730    1\n",
       "53731    1\n",
       "53732    1\n",
       "53733    1\n",
       "53734    1\n",
       "Name: informacoes_pessoais_url_linkedin, Length: 53735, dtype: int32"
      ]
     },
     "execution_count": 6,
     "metadata": {},
     "output_type": "execute_result"
    }
   ],
   "source": [
    "df['informacoes_pessoais_url_linkedin'].notnull().astype(int)"
   ]
  }
 ],
 "metadata": {
  "kernelspec": {
   "display_name": "Python 3",
   "language": "python",
   "name": "python3"
  },
  "language_info": {
   "codemirror_mode": {
    "name": "ipython",
    "version": 3
   },
   "file_extension": ".py",
   "mimetype": "text/x-python",
   "name": "python",
   "nbconvert_exporter": "python",
   "pygments_lexer": "ipython3",
   "version": "3.11.9"
  }
 },
 "nbformat": 4,
 "nbformat_minor": 2
}
